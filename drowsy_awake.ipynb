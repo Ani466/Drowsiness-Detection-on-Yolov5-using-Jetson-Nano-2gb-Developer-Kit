{
 "cells": [
  {
   "cell_type": "code",
   "execution_count": 1,
   "id": "3e49dde9",
   "metadata": {},
   "outputs": [
    {
     "name": "stdout",
     "output_type": "stream",
     "text": [
      "/home/nikhil/self_Project/yolov5\n",
      "Note: you may need to restart the kernel to use updated packages.\n",
      "Note: you may need to restart the kernel to use updated packages.\n"
     ]
    }
   ],
   "source": [
    "#clone YOLOv5 and \n",
    "#!git clone https://github.com/ultralytics/yolov5  # clone repo\n",
    "%cd yolov5\n",
    "%pip install -qr requirements.txt # install dependencies\n",
    "%pip install -q roboflow\n",
    "\n",
    "import torch\n",
    "import os\n",
    "from IPython.display import Image, clear_output  # to display images"
   ]
  },
  {
   "cell_type": "code",
   "execution_count": 2,
   "id": "53078446",
   "metadata": {},
   "outputs": [
    {
     "name": "stdout",
     "output_type": "stream",
     "text": [
      "upload and label your dataset, and get an API KEY here: https://app.roboflow.com/?model=yolov5&ref=ultralytics\n"
     ]
    }
   ],
   "source": [
    "from roboflow import Roboflow\n",
    "rf = Roboflow(model_format=\"yolov5\", notebook=\"ultralytics\")"
   ]
  },
  {
   "cell_type": "code",
   "execution_count": 3,
   "id": "14e9745b",
   "metadata": {},
   "outputs": [],
   "source": [
    "os.environ[\"DATASET_DIRECTORY\"] = \"../drowsy_awake_datasets\""
   ]
  },
  {
   "cell_type": "code",
   "execution_count": 4,
   "id": "8ba4979f",
   "metadata": {},
   "outputs": [
    {
     "name": "stdout",
     "output_type": "stream",
     "text": [
      "loading Roboflow workspace...\n",
      "loading Roboflow project...\n",
      "Downloading Dataset Version Zip in ../drowsy_awake_datasets/drowsy_detection-1 to yolov5pytorch: 100% [1843095 / 1843095] bytes\n"
     ]
    },
    {
     "name": "stderr",
     "output_type": "stream",
     "text": [
      "Extracting Dataset Version Zip to ../drowsy_awake_datasets/drowsy_detection-1 in yolov5pytorch:: 100%|██████████| 178/178 [00:00<00:00, 1153.04it/s]\n"
     ]
    }
   ],
   "source": [
    "from roboflow import Roboflow\n",
    "rf = Roboflow(api_key=\"KnO1HFUawybkKzxGovmP\")\n",
    "project = rf.workspace().project(\"drowsy_detection\")\n",
    "dataset = project.version(1).download(\"yolov5\")"
   ]
  },
  {
   "cell_type": "code",
   "execution_count": 5,
   "id": "0de1c0f9",
   "metadata": {},
   "outputs": [],
   "source": [
    "#!python train.py --img 416 --batch 16 --epochs 150 --data {dataset.location}/data.yaml --weights yolov5s.pt --cache"
   ]
  },
  {
   "cell_type": "code",
   "execution_count": 6,
   "id": "098214e3",
   "metadata": {},
   "outputs": [
    {
     "name": "stdout",
     "output_type": "stream",
     "text": [
      "\u001b[34m\u001b[1mdetect: \u001b[0mweights=['//home/nikhil/Downloads/drowsy.pt'], source=/home/nikhil/self_Project/drowsy_awake_datasets/drowsy_detection-1/test/images, imgsz=[416, 416], conf_thres=0.1, iou_thres=0.45, max_det=1000, device=, view_img=False, save_txt=False, save_conf=False, save_crop=False, nosave=False, classes=None, agnostic_nms=False, augment=False, visualize=False, update=False, project=runs/detect, name=exp, exist_ok=False, line_thickness=3, hide_labels=False, hide_conf=False, half=False, dnn=False\n",
      "YOLOv5 🚀 v6.0-159-gdb6ec66 torch 1.10.1+cu102 CPU\n",
      "\n",
      "Fusing layers... \n",
      "Model Summary: 213 layers, 7015519 parameters, 0 gradients, 15.8 GFLOPs\n",
      "image 1/4 /home/nikhil/self_Project/drowsy_awake_datasets/drowsy_detection-1/test/images/sleepdec10_png.rf.64d4c3d499f7fae44b1975ebefef7ec0.jpg: 416x416 1 awake, 1 drowsy, Done. (0.179s)\n",
      "image 2/4 /home/nikhil/self_Project/drowsy_awake_datasets/drowsy_detection-1/test/images/sleepdec23_png.rf.2020dd2f8c666fe53d86c226bf6b1677.jpg: 416x416 1 awake, Done. (0.105s)\n",
      "image 3/4 /home/nikhil/self_Project/drowsy_awake_datasets/drowsy_detection-1/test/images/sleepdec36_jpg.rf.4253e896891307b61a035a9a0f1bec64.jpg: 416x416 1 awake, 1 drowsy, Done. (0.098s)\n",
      "image 4/4 /home/nikhil/self_Project/drowsy_awake_datasets/drowsy_detection-1/test/images/sleepdec38_jpg.rf.c9327dcbffee3afe8adc8bd970cb0e36.jpg: 416x416 2 awakes, 2 drowsys, Done. (0.098s)\n",
      "Speed: 1.8ms pre-process, 119.8ms inference, 37.5ms NMS per image at shape (1, 3, 416, 416)\n",
      "Results saved to \u001b[1mruns/detect/exp31\u001b[0m\n"
     ]
    }
   ],
   "source": [
    "!python detect.py --weights //home/nikhil/Downloads/drowsy.pt --img 416 --conf 0.1 --source {dataset.location}/test/images"
   ]
  },
  {
   "cell_type": "code",
   "execution_count": null,
   "id": "a4f3b01f",
   "metadata": {},
   "outputs": [
    {
     "name": "stdout",
     "output_type": "stream",
     "text": [
      "\u001b[34m\u001b[1mdetect: \u001b[0mweights=['//home/nikhil/Downloads/drowsy.pt'], source=0, imgsz=[416, 416], conf_thres=0.1, iou_thres=0.45, max_det=1000, device=, view_img=False, save_txt=False, save_conf=False, save_crop=False, nosave=False, classes=None, agnostic_nms=False, augment=False, visualize=False, update=False, project=runs/detect, name=exp, exist_ok=False, line_thickness=3, hide_labels=False, hide_conf=False, half=False, dnn=False\n",
      "YOLOv5 🚀 v6.0-159-gdb6ec66 torch 1.10.1+cu102 CPU\n",
      "\n",
      "Fusing layers... \n",
      "Model Summary: 213 layers, 7015519 parameters, 0 gradients, 15.8 GFLOPs\n",
      "Warning: Ignoring XDG_SESSION_TYPE=wayland on Gnome. Use QT_QPA_PLATFORM=wayland to run on Wayland anyway.\n"
     ]
    }
   ],
   "source": [
    "!python detect.py --weights //home/nikhil/Downloads/drowsy.pt --img 416 --conf 0.1 --source 0"
   ]
  },
  {
   "cell_type": "code",
   "execution_count": null,
   "id": "5785ab88",
   "metadata": {},
   "outputs": [],
   "source": []
  }
 ],
 "metadata": {
  "kernelspec": {
   "display_name": "Python 3 (ipykernel)",
   "language": "python",
   "name": "python3"
  },
  "language_info": {
   "codemirror_mode": {
    "name": "ipython",
    "version": 3
   },
   "file_extension": ".py",
   "mimetype": "text/x-python",
   "name": "python",
   "nbconvert_exporter": "python",
   "pygments_lexer": "ipython3",
   "version": "3.8.8"
  }
 },
 "nbformat": 4,
 "nbformat_minor": 5
}
